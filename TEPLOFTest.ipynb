{
  "nbformat": 4,
  "nbformat_minor": 0,
  "metadata": {
    "colab": {
      "provenance": [],
      "mount_file_id": "https://github.com/weso500/QMLIIOT/blob/main/LOFTest.ipynb",
      "authorship_tag": "ABX9TyMG1Ha5lb01NsB/eH71Sll5",
      "include_colab_link": true
    },
    "kernelspec": {
      "name": "python3",
      "display_name": "Python 3"
    },
    "language_info": {
      "name": "python"
    }
  },
  "cells": [
    {
      "cell_type": "markdown",
      "metadata": {
        "id": "view-in-github",
        "colab_type": "text"
      },
      "source": [
        "<a href=\"https://colab.research.google.com/github/weso500/QMLIIOT/blob/main/TEPLOFTest.ipynb\" target=\"_parent\"><img src=\"https://colab.research.google.com/assets/colab-badge.svg\" alt=\"Open In Colab\"/></a>"
      ]
    },
    {
      "cell_type": "code",
      "execution_count": null,
      "metadata": {
        "colab": {
          "base_uri": "https://localhost:8080/"
        },
        "id": "Sfht9ubWfJYk",
        "outputId": "99b5afbb-c058-42da-b7c5-4f333def54b1"
      },
      "outputs": [
        {
          "output_type": "stream",
          "name": "stdout",
          "text": [
            "Shape of train_features: (200, 11)\n",
            "Shape of test_features: (60, 11)\n",
            "Shape of test_target: (60,)\n"
          ]
        }
      ],
      "source": [
        "import pandas as pd\n",
        "import numpy as np\n",
        "\n",
        "# Load the training data\n",
        "train_df = pd.read_csv('/content/drive/MyDrive/QMLIIOT/TEP9Train.csv')\n",
        "\n",
        "# Load the test data\n",
        "test_df = pd.read_csv('/content/drive/MyDrive/QMLIIOT/TEP9Test.csv')\n",
        "\n",
        "# Convert training features to numpy array and select 100 samples\n",
        "train_features = train_df.to_numpy()\n",
        "\n",
        "test_features= test_df.to_numpy()\n",
        "\n",
        "# Create target arrays for training and testing data\n",
        "test_target = np.concatenate((np.zeros(50), np.ones(10)))\n",
        "\n",
        "# Ensure arrays are of size samples*8 (assuming 8 is the number of features)\n",
        "print(f\"Shape of train_features: {train_features.shape}\")\n",
        "print(f\"Shape of test_features: {test_features.shape}\")\n",
        "print(f\"Shape of test_target: {test_target.shape}\")"
      ]
    },
    {
      "cell_type": "code",
      "source": [
        "from sklearn.neighbors import LocalOutlierFactor\n",
        "\n",
        "clf = LocalOutlierFactor(novelty=True,)\n",
        "clf.fit(train_features)\n",
        "y_pred_test = clf.predict(test_features)"
      ],
      "metadata": {
        "id": "gKzQUNo6fWrT"
      },
      "execution_count": null,
      "outputs": []
    },
    {
      "cell_type": "code",
      "source": [
        "scores = clf.decision_function(test_features)  # negative distance = anomaly\n"
      ],
      "metadata": {
        "id": "E-5Fp8W0f4Dj"
      },
      "execution_count": null,
      "outputs": []
    },
    {
      "cell_type": "code",
      "source": [
        "print(scores)"
      ],
      "metadata": {
        "colab": {
          "base_uri": "https://localhost:8080/"
        },
        "id": "EdM-X5off7Ns",
        "outputId": "8d04d8be-4719-4b23-fd68-1ea3faff5090"
      },
      "execution_count": null,
      "outputs": [
        {
          "output_type": "stream",
          "name": "stdout",
          "text": [
            "[ 0.48614583  0.52978353  0.35704268 -0.03685301  0.37984512  0.55876291\n",
            "  0.43568469  0.4585678   0.51173186  0.2903111   0.31462962  0.43255962\n",
            "  0.41900781  0.36208725  0.40472468  0.52012191  0.3345288   0.52386827\n",
            "  0.24542372  0.50332862  0.33987008  0.31885966  0.51349425  0.47757177\n",
            "  0.42865414  0.49610144  0.50071412  0.30274052  0.47977045  0.40475697\n",
            "  0.53580534  0.29262582  0.45266368  0.42722293  0.48470963  0.47644387\n",
            "  0.29237921  0.07473566  0.52122727  0.34368589  0.47508079  0.36177194\n",
            "  0.53541186  0.52860137  0.49792295  0.49043919  0.50591034  0.42000525\n",
            "  0.46910677  0.45492051  0.39655196  0.49295648  0.46264297  0.52231139\n",
            "  0.51974969  0.50114179  0.53268293  0.36902959  0.38110234  0.47188825]\n"
          ]
        }
      ]
    },
    {
      "cell_type": "code",
      "source": [
        "import numpy as np\n",
        "import pandas as pd\n",
        "import pywt\n",
        "from sklearn import metrics\n",
        "from sklearn.metrics import confusion_matrix, ConfusionMatrixDisplay, classification_report, f1_score\n",
        "from sklearn.preprocessing import StandardScaler\n",
        "import matplotlib.pyplot as plt\n",
        "from sklearn.model_selection import train_test_split\n",
        "import tensorflow as tf\n",
        "from tensorflow import keras\n",
        "\n",
        "\n",
        "\n",
        "fpr, tpr, thresholds = metrics.roc_curve(test_target, scores, pos_label=1)\n",
        "optimal_idx = np.argmax(tpr - fpr)\n",
        "loss_threshold = (thresholds[optimal_idx], 6)\n",
        "\n",
        "auc = metrics.auc(fpr, tpr)\n",
        "print(auc)"
      ],
      "metadata": {
        "colab": {
          "base_uri": "https://localhost:8080/"
        },
        "id": "jNh9vwC7hmC7",
        "outputId": "a00bc6f7-6d97-4123-d7a2-b14ad3ad1a24"
      },
      "execution_count": null,
      "outputs": [
        {
          "output_type": "stream",
          "name": "stdout",
          "text": [
            "0.616\n"
          ]
        }
      ]
    }
  ]
}