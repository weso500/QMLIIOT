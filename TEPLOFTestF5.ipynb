{
  "nbformat": 4,
  "nbformat_minor": 0,
  "metadata": {
    "colab": {
      "provenance": [],
      "mount_file_id": "https://github.com/weso500/QMLIIOT/blob/main/TEPLOFTest.ipynb",
      "authorship_tag": "ABX9TyOfY66H1NhlBlrhagjk9dwe",
      "include_colab_link": true
    },
    "kernelspec": {
      "name": "python3",
      "display_name": "Python 3"
    },
    "language_info": {
      "name": "python"
    }
  },
  "cells": [
    {
      "cell_type": "markdown",
      "metadata": {
        "id": "view-in-github",
        "colab_type": "text"
      },
      "source": [
        "<a href=\"https://colab.research.google.com/github/weso500/QMLIIOT/blob/main/TEPLOFTestF5.ipynb\" target=\"_parent\"><img src=\"https://colab.research.google.com/assets/colab-badge.svg\" alt=\"Open In Colab\"/></a>"
      ]
    },
    {
      "cell_type": "code",
      "execution_count": null,
      "metadata": {
        "colab": {
          "base_uri": "https://localhost:8080/"
        },
        "id": "Sfht9ubWfJYk",
        "outputId": "802f42e6-2e04-46f9-d96e-e75873c636c6"
      },
      "outputs": [
        {
          "output_type": "stream",
          "name": "stdout",
          "text": [
            "Shape of train_features: (200, 8)\n",
            "Shape of test_features: (60, 8)\n",
            "Shape of test_target: (60,)\n"
          ]
        }
      ],
      "source": [
        "import pandas as pd\n",
        "import numpy as np\n",
        "\n",
        "# Load the training data\n",
        "train_df = pd.read_csv('/content/drive/MyDrive/QMLIIOT/TEP5Train.csv')\n",
        "\n",
        "# Load the test data\n",
        "test_df = pd.read_csv('/content/drive/MyDrive/QMLIIOT/TEP5Test.csv')\n",
        "\n",
        "# Convert training features to numpy array and select 100 samples\n",
        "train_features = train_df.to_numpy()\n",
        "\n",
        "test_features= test_df.to_numpy()\n",
        "\n",
        "# Create target arrays for training and testing data\n",
        "test_target = np.concatenate((np.zeros(50), np.ones(10)))\n",
        "\n",
        "# Ensure arrays are of size samples*8 (assuming 8 is the number of features)\n",
        "print(f\"Shape of train_features: {train_features.shape}\")\n",
        "print(f\"Shape of test_features: {test_features.shape}\")\n",
        "print(f\"Shape of test_target: {test_target.shape}\")"
      ]
    },
    {
      "cell_type": "code",
      "source": [
        "from sklearn.neighbors import LocalOutlierFactor\n",
        "\n",
        "clf = LocalOutlierFactor(novelty=True,)\n",
        "clf.fit(train_features)\n",
        "y_pred_test = clf.predict(test_features)"
      ],
      "metadata": {
        "id": "gKzQUNo6fWrT"
      },
      "execution_count": null,
      "outputs": []
    },
    {
      "cell_type": "code",
      "source": [
        "scores = -clf.decision_function(test_features)  # negative distance = anomaly\n"
      ],
      "metadata": {
        "id": "E-5Fp8W0f4Dj"
      },
      "execution_count": null,
      "outputs": []
    },
    {
      "cell_type": "code",
      "source": [
        "print(scores)"
      ],
      "metadata": {
        "colab": {
          "base_uri": "https://localhost:8080/"
        },
        "id": "EdM-X5off7Ns",
        "outputId": "a174c202-2a9f-488f-b9e3-ce79a81770c2"
      },
      "execution_count": null,
      "outputs": [
        {
          "output_type": "stream",
          "name": "stdout",
          "text": [
            "[-0.48231598 -0.54554354 -0.21759239 -0.01026    -0.49517228 -0.54012042\n",
            " -0.33147359 -0.34737409 -0.4335315  -0.2612293  -0.2726801  -0.42645365\n",
            " -0.29208067 -0.3927773  -0.45086648 -0.46825364 -0.19959143 -0.52997195\n",
            " -0.26645708 -0.50706204 -0.30208952 -0.33364144 -0.32905939 -0.44526882\n",
            " -0.32759876 -0.43480911 -0.52283501 -0.4179413  -0.48233222 -0.36051439\n",
            " -0.51203288 -0.37450535 -0.47627864 -0.40581859 -0.49346348 -0.35610007\n",
            " -0.37226612 -0.12381257 -0.50102134 -0.38001622 -0.52318574 -0.46566285\n",
            " -0.39281045 -0.42858846 -0.49797637 -0.38512763 -0.34319914 -0.4219515\n",
            " -0.49030069 -0.36066955  2.65464517 -0.36924964 -0.35196098 -0.40882332\n",
            " -0.34366792 -0.21870265  0.21292072 -0.39883368  1.55631243  0.05710163]\n"
          ]
        }
      ]
    },
    {
      "cell_type": "code",
      "source": [
        "import numpy as np\n",
        "import pandas as pd\n",
        "import pywt\n",
        "from sklearn import metrics\n",
        "from sklearn.metrics import confusion_matrix, ConfusionMatrixDisplay, classification_report, f1_score\n",
        "from sklearn.preprocessing import StandardScaler\n",
        "import matplotlib.pyplot as plt\n",
        "from sklearn.model_selection import train_test_split\n",
        "import tensorflow as tf\n",
        "from tensorflow import keras\n",
        "\n",
        "\n",
        "\n",
        "fpr, tpr, thresholds = metrics.roc_curve(test_target, scores, pos_label=1)\n",
        "optimal_idx = np.argmax(tpr - fpr)\n",
        "loss_threshold = (thresholds[optimal_idx], 6)\n",
        "\n",
        "auc = metrics.auc(fpr, tpr)\n",
        "print(auc)"
      ],
      "metadata": {
        "colab": {
          "base_uri": "https://localhost:8080/"
        },
        "id": "jNh9vwC7hmC7",
        "outputId": "e3742aa1-b5f1-409d-8067-c5ac45b60efb"
      },
      "execution_count": null,
      "outputs": [
        {
          "output_type": "stream",
          "name": "stdout",
          "text": [
            "0.8\n"
          ]
        }
      ]
    }
  ]
}