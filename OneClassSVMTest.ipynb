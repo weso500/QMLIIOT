{
  "nbformat": 4,
  "nbformat_minor": 0,
  "metadata": {
    "colab": {
      "provenance": [],
      "mount_file_id": "1hyupHp9L31Txq7TdDz2oxt_yOMZg4nKL",
      "authorship_tag": "ABX9TyO1AqSkVEVDdYcw4ZF3o5te",
      "include_colab_link": true
    },
    "kernelspec": {
      "name": "python3",
      "display_name": "Python 3"
    },
    "language_info": {
      "name": "python"
    }
  },
  "cells": [
    {
      "cell_type": "markdown",
      "metadata": {
        "id": "view-in-github",
        "colab_type": "text"
      },
      "source": [
        "<a href=\"https://colab.research.google.com/github/weso500/QMLIIOT/blob/main/OneClassSVMTest.ipynb\" target=\"_parent\"><img src=\"https://colab.research.google.com/assets/colab-badge.svg\" alt=\"Open In Colab\"/></a>"
      ]
    },
    {
      "cell_type": "code",
      "execution_count": 15,
      "metadata": {
        "colab": {
          "base_uri": "https://localhost:8080/"
        },
        "id": "Sfht9ubWfJYk",
        "outputId": "9036e2d4-edc6-46e5-88e8-daf1fbd516d1"
      },
      "outputs": [
        {
          "output_type": "stream",
          "name": "stdout",
          "text": [
            "(510, 11)\n",
            "Shape of train_features: (100, 11)\n",
            "Shape of test_features: (55, 11)\n",
            "Shape of test_target: (55,)\n"
          ]
        }
      ],
      "source": [
        "import pandas as pd\n",
        "import numpy as np\n",
        "\n",
        "# Load the training data\n",
        "train_df = pd.read_csv('/content/drive/MyDrive/QMLIIOT/Train_11.csv')\n",
        "\n",
        "# Load the test data\n",
        "test_df = pd.read_csv('/content/drive/MyDrive/QMLIIOT/Test_11.csv')\n",
        "print(test_df.shape)\n",
        "\n",
        "# Convert training features to numpy array and select 100 samples\n",
        "train_features = train_df.to_numpy()[:100]\n",
        "\n",
        "test_features= test_df.to_numpy()\n",
        "test_features = np.concatenate((test_features[:50], test_features[505:]))\n",
        "\n",
        "# Create target arrays for training and testing data\n",
        "test_target = np.concatenate((np.zeros(50), np.ones(5)))\n",
        "\n",
        "# Ensure arrays are of size samples*8 (assuming 8 is the number of features)\n",
        "print(f\"Shape of train_features: {train_features.shape}\")\n",
        "print(f\"Shape of test_features: {test_features.shape}\")\n",
        "print(f\"Shape of test_target: {test_target.shape}\")"
      ]
    },
    {
      "cell_type": "code",
      "source": [
        "from sklearn.svm import OneClassSVM\n",
        "\n",
        "clf = OneClassSVM()\n",
        "clf.fit(train_features)\n",
        "y_pred_test = clf.predict(test_features)"
      ],
      "metadata": {
        "id": "gKzQUNo6fWrT"
      },
      "execution_count": 28,
      "outputs": []
    },
    {
      "cell_type": "code",
      "source": [
        "scores = clf.decision_function(test_features)  # negative distance = anomaly\n"
      ],
      "metadata": {
        "id": "E-5Fp8W0f4Dj"
      },
      "execution_count": 29,
      "outputs": []
    },
    {
      "cell_type": "code",
      "source": [
        "print(scores)"
      ],
      "metadata": {
        "colab": {
          "base_uri": "https://localhost:8080/"
        },
        "id": "EdM-X5off7Ns",
        "outputId": "64e2d542-729d-4251-c81d-4e88d1092b51"
      },
      "execution_count": 30,
      "outputs": [
        {
          "output_type": "stream",
          "name": "stdout",
          "text": [
            "[-22.3186692  -22.82368456 -22.65991796 -20.73818047 -22.40207153\n",
            " -21.0269696  -22.31024809 -22.73454018 -21.14606966 -22.29376747\n",
            " -20.74083618 -20.93052892 -23.19116355 -23.39540443 -23.01772864\n",
            " -22.91061125 -21.56544822 -22.86091014 -23.75861572 -20.18556121\n",
            " -21.90161257 -23.67630565 -22.1468519  -23.83210255 -25.19139195\n",
            " -22.61465358 -23.47924964 -23.41635753 -23.76060727 -21.09789664\n",
            " -20.58321115 -22.96055607 -22.30255156 -21.99781964 -21.04264149\n",
            " -23.23855796 -23.13893404 -25.76581433 -24.02131985 -20.78434815\n",
            " -24.58249298 -25.6106658  -26.064523   -22.34524648 -22.47189583\n",
            " -24.57068834 -23.2629728  -24.10231784 -23.10805887 -22.70079163\n",
            "  -7.30697458  -7.39566083  -6.56214044  -3.70726991  -7.25152279]\n"
          ]
        }
      ]
    },
    {
      "cell_type": "code",
      "source": [
        "import numpy as np\n",
        "import pandas as pd\n",
        "import pywt\n",
        "from sklearn import metrics\n",
        "from sklearn.metrics import confusion_matrix, ConfusionMatrixDisplay, classification_report, f1_score\n",
        "from sklearn.preprocessing import StandardScaler\n",
        "import matplotlib.pyplot as plt\n",
        "from sklearn.model_selection import train_test_split\n",
        "import tensorflow as tf\n",
        "from tensorflow import keras\n",
        "\n",
        "\n",
        "\n",
        "fpr, tpr, thresholds = metrics.roc_curve(test_target, scores, pos_label=1)\n",
        "optimal_idx = np.argmax(tpr - fpr)\n",
        "loss_threshold = (thresholds[optimal_idx], 6)\n",
        "\n",
        "auc = metrics.auc(fpr, tpr)\n",
        "print(auc)"
      ],
      "metadata": {
        "colab": {
          "base_uri": "https://localhost:8080/"
        },
        "id": "jNh9vwC7hmC7",
        "outputId": "78cfcf9b-941b-43a5-a6f0-b9f2456c1795"
      },
      "execution_count": 31,
      "outputs": [
        {
          "output_type": "stream",
          "name": "stdout",
          "text": [
            "1.0\n"
          ]
        }
      ]
    }
  ]
}