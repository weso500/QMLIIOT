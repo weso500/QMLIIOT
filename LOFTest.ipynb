{
  "nbformat": 4,
  "nbformat_minor": 0,
  "metadata": {
    "colab": {
      "provenance": [],
      "mount_file_id": "1hyupHp9L31Txq7TdDz2oxt_yOMZg4nKL",
      "authorship_tag": "ABX9TyNw9kFKrTNy/17kg/xT6RfU",
      "include_colab_link": true
    },
    "kernelspec": {
      "name": "python3",
      "display_name": "Python 3"
    },
    "language_info": {
      "name": "python"
    }
  },
  "cells": [
    {
      "cell_type": "markdown",
      "metadata": {
        "id": "view-in-github",
        "colab_type": "text"
      },
      "source": [
        "<a href=\"https://colab.research.google.com/github/weso500/QMLIIOT/blob/main/LOFTest.ipynb\" target=\"_parent\"><img src=\"https://colab.research.google.com/assets/colab-badge.svg\" alt=\"Open In Colab\"/></a>"
      ]
    },
    {
      "cell_type": "code",
      "execution_count": 15,
      "metadata": {
        "colab": {
          "base_uri": "https://localhost:8080/"
        },
        "id": "Sfht9ubWfJYk",
        "outputId": "9036e2d4-edc6-46e5-88e8-daf1fbd516d1"
      },
      "outputs": [
        {
          "output_type": "stream",
          "name": "stdout",
          "text": [
            "(510, 11)\n",
            "Shape of train_features: (100, 11)\n",
            "Shape of test_features: (55, 11)\n",
            "Shape of test_target: (55,)\n"
          ]
        }
      ],
      "source": [
        "import pandas as pd\n",
        "import numpy as np\n",
        "\n",
        "# Load the training data\n",
        "train_df = pd.read_csv('/content/drive/MyDrive/QMLIIOT/Train_11.csv')\n",
        "\n",
        "# Load the test data\n",
        "test_df = pd.read_csv('/content/drive/MyDrive/QMLIIOT/Test_11.csv')\n",
        "print(test_df.shape)\n",
        "\n",
        "# Convert training features to numpy array and select 100 samples\n",
        "train_features = train_df.to_numpy()[:100]\n",
        "\n",
        "test_features= test_df.to_numpy()\n",
        "test_features = np.concatenate((test_features[:50], test_features[505:]))\n",
        "\n",
        "# Create target arrays for training and testing data\n",
        "test_target = np.concatenate((np.zeros(50), np.ones(5)))\n",
        "\n",
        "# Ensure arrays are of size samples*8 (assuming 8 is the number of features)\n",
        "print(f\"Shape of train_features: {train_features.shape}\")\n",
        "print(f\"Shape of test_features: {test_features.shape}\")\n",
        "print(f\"Shape of test_target: {test_target.shape}\")"
      ]
    },
    {
      "cell_type": "code",
      "source": [
        "from sklearn.neighbors import LocalOutlierFactor\n",
        "\n",
        "clf = LocalOutlierFactor(novelty=True,)\n",
        "clf.fit(train_features)\n",
        "y_pred_test = clf.predict(test_features)"
      ],
      "metadata": {
        "id": "gKzQUNo6fWrT"
      },
      "execution_count": 24,
      "outputs": []
    },
    {
      "cell_type": "code",
      "source": [
        "scores = clf.decision_function(test_features)  # negative distance = anomaly\n"
      ],
      "metadata": {
        "id": "E-5Fp8W0f4Dj"
      },
      "execution_count": 25,
      "outputs": []
    },
    {
      "cell_type": "code",
      "source": [
        "print(scores)"
      ],
      "metadata": {
        "colab": {
          "base_uri": "https://localhost:8080/"
        },
        "id": "EdM-X5off7Ns",
        "outputId": "14745b31-fbef-405b-9059-618edd7eec1f"
      },
      "execution_count": 26,
      "outputs": [
        {
          "output_type": "stream",
          "name": "stdout",
          "text": [
            "[-1.01244499 -1.08253198 -1.0240925  -0.82826158 -1.05737817 -0.88973101\n",
            " -1.04776361 -1.00103393 -0.84508357 -1.06120183 -0.87471614 -0.90047791\n",
            " -1.16847805 -1.15177829 -1.13113966 -1.03730275 -0.89142913 -1.08404173\n",
            " -1.24784486 -0.77434233 -0.93969521 -1.20793238 -1.04987911 -1.17404624\n",
            " -1.40007645 -1.00277341 -1.07368222 -1.12688483 -1.1502911  -0.91188697\n",
            " -0.87960407 -1.10617393 -1.01636666 -1.00832233 -0.91336373 -1.11338144\n",
            " -1.12789506 -1.51797511 -1.06900944 -0.89996351 -1.16271968 -1.36499796\n",
            " -1.44081863 -1.07958796 -1.00136919 -1.26526789 -1.10662304 -1.27881203\n",
            " -1.03656406 -1.0445275   0.18833322  0.20174554  0.2365195   0.30370522\n",
            "  0.12186892]\n"
          ]
        }
      ]
    },
    {
      "cell_type": "code",
      "source": [
        "import numpy as np\n",
        "import pandas as pd\n",
        "import pywt\n",
        "from sklearn import metrics\n",
        "from sklearn.metrics import confusion_matrix, ConfusionMatrixDisplay, classification_report, f1_score\n",
        "from sklearn.preprocessing import StandardScaler\n",
        "import matplotlib.pyplot as plt\n",
        "from sklearn.model_selection import train_test_split\n",
        "import tensorflow as tf\n",
        "from tensorflow import keras\n",
        "\n",
        "\n",
        "\n",
        "fpr, tpr, thresholds = metrics.roc_curve(test_target, scores, pos_label=1)\n",
        "optimal_idx = np.argmax(tpr - fpr)\n",
        "loss_threshold = (thresholds[optimal_idx], 6)\n",
        "\n",
        "auc = metrics.auc(fpr, tpr)\n",
        "print(auc)"
      ],
      "metadata": {
        "colab": {
          "base_uri": "https://localhost:8080/"
        },
        "id": "jNh9vwC7hmC7",
        "outputId": "b13fdf30-2e07-48f8-d086-08e475b844bb"
      },
      "execution_count": 27,
      "outputs": [
        {
          "output_type": "stream",
          "name": "stdout",
          "text": [
            "1.0\n"
          ]
        }
      ]
    }
  ]
}