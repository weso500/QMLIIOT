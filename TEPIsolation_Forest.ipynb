{
  "nbformat": 4,
  "nbformat_minor": 0,
  "metadata": {
    "colab": {
      "provenance": [],
      "mount_file_id": "11KFZQf6saJ6_uUVRMM1DCT2LNurD7Bji",
      "authorship_tag": "ABX9TyMkFKQY0KjOIDimsPYJzBwX",
      "include_colab_link": true
    },
    "kernelspec": {
      "name": "python3",
      "display_name": "Python 3"
    },
    "language_info": {
      "name": "python"
    }
  },
  "cells": [
    {
      "cell_type": "markdown",
      "metadata": {
        "id": "view-in-github",
        "colab_type": "text"
      },
      "source": [
        "<a href=\"https://colab.research.google.com/github/weso500/QMLIIOT/blob/main/TEPIsolation_Forest.ipynb\" target=\"_parent\"><img src=\"https://colab.research.google.com/assets/colab-badge.svg\" alt=\"Open In Colab\"/></a>"
      ]
    },
    {
      "cell_type": "code",
      "source": [
        "# =========================\n",
        "# Quantum Random Features + Isolation Forest (semi-supervised)\n",
        "# =========================\n",
        "!pip -q install qiskit==1.2.4 scikit-learn==1.6.1 numpy pandas\n",
        "\n",
        "import numpy as np, pandas as pd\n",
        "from sklearn.preprocessing import StandardScaler\n",
        "from sklearn.ensemble import IsolationForest\n",
        "from sklearn.metrics import roc_auc_score, roc_curve, confusion_matrix, precision_recall_fscore_support\n",
        "from qiskit import QuantumCircuit\n",
        "from qiskit.quantum_info import Statevector\n",
        "\n",
        "# ---- Tunables ----\n",
        "N_FEATS = 8          # use 6–8 to keep circuits small; try 11 if time allows\n",
        "N_FEATURE_MAPS = 256 # number of random quantum features (128–512)\n",
        "DEPTH = 2            # random circuit depth (2–3)\n",
        "RANDOM_SEED = 42\n",
        "\n",
        "# 1) Load\n",
        "train_df = pd.read_csv('/content/drive/MyDrive/QMLIIOT/TEP9Train_large.csv')  # normals only\n",
        "test_df  = pd.read_csv('/content/drive/MyDrive/QMLIIOT/TEP9Test_large.csv')\n",
        "Xn_raw = train_df.to_numpy().astype(np.float32)\n",
        "Xt_raw = test_df.to_numpy().astype(np.float32)\n",
        "y_test = np.concatenate((np.zeros(500), np.ones(25))).astype(int)\n",
        "\n",
        "# 2) Scale on normals, simple top-variance feature selection (no PCA)\n",
        "scaler = StandardScaler().fit(Xn_raw)\n",
        "Xn = scaler.transform(Xn_raw)\n",
        "Xt = scaler.transform(Xt_raw)\n",
        "vars_ = Xn.var(axis=0)\n",
        "keep = np.argsort(vars_)[::-1][:N_FEATS]\n",
        "Xn, Xt = Xn[:, keep], Xt[:, keep]\n",
        "\n",
        "rng = np.random.default_rng(RANDOM_SEED)\n",
        "\n",
        "# 3) Build random quantum feature functions φ_j(x)\n",
        "def build_random_circuit(n_qubits, depth, rng):\n",
        "    qc = QuantumCircuit(n_qubits)\n",
        "    for _ in range(depth):\n",
        "        # random single-qubit rotations\n",
        "        for q in range(n_qubits):\n",
        "            a, b, c = rng.uniform(0, 2*np.pi, size=3)\n",
        "            qc.ry(a, q); qc.rz(b, q); qc.rx(c, q)\n",
        "        # random entanglement (linear chain)\n",
        "        for q in range(n_qubits-1):\n",
        "            qc.cx(q, q+1)\n",
        "    return qc\n",
        "\n",
        "# Pre-generate random circuits\n",
        "circuits = [build_random_circuit(N_FEATS, DEPTH, rng) for _ in range(N_FEATURE_MAPS)]\n",
        "\n",
        "# Angle-embed x into the circuit by appending Ry(pi/2 * x_i) to each wire before random block\n",
        "def embed_and_eval(state, x, base_qc):\n",
        "    n = len(x)\n",
        "    prep = QuantumCircuit(n)\n",
        "    for i in range(n):\n",
        "        prep.ry(float(np.pi/2 * x[i]), i)\n",
        "    full = prep.compose(base_qc)\n",
        "    sv = Statevector.from_instruction(full)\n",
        "    # A simple set of observables: Z expectation on each qubit; sum-pool to one scalar\n",
        "    # You can also pick a subset or random Pauli strings; we keep it simple and fast here\n",
        "    probs = np.abs(sv.data)**2\n",
        "    expZ = []\n",
        "    for q in range(n):\n",
        "        mask = 1 << (n-1-q)\n",
        "        exp = 0.0\n",
        "        for idx, p in enumerate(probs):\n",
        "            bit = (idx & mask) >> (n-1-q)\n",
        "            exp += (1 - 2*bit) * p   # +1 for |0>, -1 for |1>\n",
        "        expZ.append(exp)\n",
        "    # return both mean and a few coordinates for richer features\n",
        "    return np.array([np.mean(expZ), np.std(expZ)], dtype=np.float32)\n",
        "\n",
        "def quantum_random_features(X):\n",
        "    # shape: (n_samples, 2 * N_FEATURE_MAPS)\n",
        "    out = np.zeros((X.shape[0], 2*N_FEATURE_MAPS), dtype=np.float32)\n",
        "    state = None\n",
        "    for j, qc in enumerate(circuits):\n",
        "        phi = np.vstack([embed_and_eval(state, x, qc) for x in X])\n",
        "        out[:, 2*j:2*j+2] = phi\n",
        "    return out\n",
        "\n",
        "# 4) Build features\n",
        "Zn = quantum_random_features(Xn)   # normals\n",
        "Zt = quantum_random_features(Xt)   # test\n",
        "\n",
        "# 5) Train Isolation Forest on normals only\n",
        "iso = IsolationForest(\n",
        "    n_estimators=300, max_samples='auto', contamination='auto',\n",
        "    random_state=RANDOM_SEED, n_jobs=-1\n",
        ").fit(Zn)\n",
        "\n",
        "# Scores (higher = more anomalous): flip sign from sklearn’s convention\n",
        "scores = -iso.score_samples(Zt)\n",
        "\n",
        "# 6) Evaluate\n",
        "auc = roc_auc_score(y_test, scores)\n",
        "print(f\"ROC-AUC: {auc:.4f}\")\n",
        "\n",
        "# Pick operating threshold by Youden J on ROC\n",
        "fpr, tpr, thr = roc_curve(y_test, scores)\n",
        "j = np.argmax(tpr - fpr); thr_star = thr[j] if j < len(thr) else np.median(scores)\n",
        "y_pred = (scores >= thr_star).astype(int)\n",
        "cm = confusion_matrix(y_test, y_pred)\n",
        "prec, rec, f1, _ = precision_recall_fscore_support(y_test, y_pred, average='binary', zero_division=0)\n",
        "print(\"Confusion matrix [[TN, FP],[FN, TP]]:\\n\", cm)\n",
        "print(f\"Precision={prec:.3f}  Recall={rec:.3f}  F1={f1:.3f}  Thr={thr_star:.4f}\")\n"
      ],
      "metadata": {
        "colab": {
          "base_uri": "https://localhost:8080/"
        },
        "id": "dMRXVv1jysiC",
        "outputId": "4456673d-91de-40c2-8e9e-093cb6a41aa4"
      },
      "execution_count": 1,
      "outputs": [
        {
          "output_type": "stream",
          "name": "stdout",
          "text": [
            "\u001b[2K   \u001b[90m━━━━━━━━━━━━━━━━━━━━━━━━━━━━━━━━━━━━━━━━\u001b[0m \u001b[32m4.8/4.8 MB\u001b[0m \u001b[31m34.9 MB/s\u001b[0m eta \u001b[36m0:00:00\u001b[0m\n",
            "\u001b[2K   \u001b[90m━━━━━━━━━━━━━━━━━━━━━━━━━━━━━━━━━━━━━━━━\u001b[0m \u001b[32m2.2/2.2 MB\u001b[0m \u001b[31m78.1 MB/s\u001b[0m eta \u001b[36m0:00:00\u001b[0m\n",
            "\u001b[2K   \u001b[90m━━━━━━━━━━━━━━━━━━━━━━━━━━━━━━━━━━━━━━━━\u001b[0m \u001b[32m49.5/49.5 kB\u001b[0m \u001b[31m4.9 MB/s\u001b[0m eta \u001b[36m0:00:00\u001b[0m\n",
            "\u001b[2K   \u001b[90m━━━━━━━━━━━━━━━━━━━━━━━━━━━━━━━━━━━━━━━━\u001b[0m \u001b[32m49.6/49.6 MB\u001b[0m \u001b[31m17.2 MB/s\u001b[0m eta \u001b[36m0:00:00\u001b[0m\n",
            "\u001b[?25hROC-AUC: 0.5517\n",
            "Confusion matrix [[TN, FP],[FN, TP]]:\n",
            " [[179 321]\n",
            " [  3  22]]\n",
            "Precision=0.064  Recall=0.880  F1=0.120  Thr=0.4424\n"
          ]
        }
      ]
    }
  ]
}