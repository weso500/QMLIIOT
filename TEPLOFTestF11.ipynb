{
  "nbformat": 4,
  "nbformat_minor": 0,
  "metadata": {
    "colab": {
      "provenance": [],
      "mount_file_id": "https://github.com/weso500/QMLIIOT/blob/main/TEPLOFTest.ipynb",
      "authorship_tag": "ABX9TyN5T34/m8bIFWHqI7u8UFQx",
      "include_colab_link": true
    },
    "kernelspec": {
      "name": "python3",
      "display_name": "Python 3"
    },
    "language_info": {
      "name": "python"
    }
  },
  "cells": [
    {
      "cell_type": "markdown",
      "metadata": {
        "id": "view-in-github",
        "colab_type": "text"
      },
      "source": [
        "<a href=\"https://colab.research.google.com/github/weso500/QMLIIOT/blob/main/TEPLOFTestF11.ipynb\" target=\"_parent\"><img src=\"https://colab.research.google.com/assets/colab-badge.svg\" alt=\"Open In Colab\"/></a>"
      ]
    },
    {
      "cell_type": "code",
      "execution_count": null,
      "metadata": {
        "colab": {
          "base_uri": "https://localhost:8080/"
        },
        "id": "Sfht9ubWfJYk",
        "outputId": "6c34ac3a-c1e2-4103-e633-076c739a945f"
      },
      "outputs": [
        {
          "output_type": "stream",
          "name": "stdout",
          "text": [
            "Shape of train_features: (200, 8)\n",
            "Shape of test_features: (60, 8)\n",
            "Shape of test_target: (60,)\n"
          ]
        }
      ],
      "source": [
        "import pandas as pd\n",
        "import numpy as np\n",
        "\n",
        "# Load the training data\n",
        "train_df = pd.read_csv('/content/drive/MyDrive/QMLIIOT/TEP11Train.csv')\n",
        "\n",
        "# Load the test data\n",
        "test_df = pd.read_csv('/content/drive/MyDrive/QMLIIOT/TEP11Test.csv')\n",
        "\n",
        "# Convert training features to numpy array and select 100 samples\n",
        "train_features = train_df.to_numpy()\n",
        "\n",
        "test_features= test_df.to_numpy()\n",
        "\n",
        "# Create target arrays for training and testing data\n",
        "test_target = np.concatenate((np.zeros(50), np.ones(10)))\n",
        "\n",
        "# Ensure arrays are of size samples*8 (assuming 8 is the number of features)\n",
        "print(f\"Shape of train_features: {train_features.shape}\")\n",
        "print(f\"Shape of test_features: {test_features.shape}\")\n",
        "print(f\"Shape of test_target: {test_target.shape}\")"
      ]
    },
    {
      "cell_type": "code",
      "source": [
        "from sklearn.neighbors import LocalOutlierFactor\n",
        "\n",
        "clf = LocalOutlierFactor(novelty=True,)\n",
        "clf.fit(train_features)\n",
        "y_pred_test = clf.predict(test_features)"
      ],
      "metadata": {
        "id": "gKzQUNo6fWrT"
      },
      "execution_count": null,
      "outputs": []
    },
    {
      "cell_type": "code",
      "source": [
        "scores = -clf.decision_function(test_features)  # negative distance = anomaly\n"
      ],
      "metadata": {
        "id": "E-5Fp8W0f4Dj"
      },
      "execution_count": null,
      "outputs": []
    },
    {
      "cell_type": "code",
      "source": [
        "print(scores)"
      ],
      "metadata": {
        "colab": {
          "base_uri": "https://localhost:8080/"
        },
        "id": "EdM-X5off7Ns",
        "outputId": "bf03e6be-c8aa-46ab-b133-22db78145388"
      },
      "execution_count": null,
      "outputs": [
        {
          "output_type": "stream",
          "name": "stdout",
          "text": [
            "[-0.39238942 -0.54487956 -0.30383795 -0.02855146 -0.36444715 -0.33257838\n",
            " -0.2471391  -0.28460708 -0.40491642 -0.45130552 -0.29613348 -0.31606226\n",
            " -0.27454428 -0.27127411 -0.27600735 -0.46414245 -0.28805869 -0.52512549\n",
            " -0.0225574  -0.46115871 -0.28765249 -0.36223246 -0.46885256 -0.47613099\n",
            " -0.36916414 -0.44150116 -0.39342094 -0.43461253 -0.24960342 -0.28623325\n",
            " -0.29348143 -0.30492566 -0.4935809   0.02141083 -0.43492914 -0.44733984\n",
            " -0.10180688 -0.21293025 -0.50452157 -0.23252485 -0.5238653  -0.47039506\n",
            " -0.40086063 -0.47242629 -0.41809407 -0.4913737  -0.43595862 -0.32583985\n",
            " -0.49627647 -0.42366386 -0.19802791 -0.29574286 -0.03967661 -0.20101999\n",
            "  0.63533758 -0.18116439 -0.43854382 -0.47370685  2.34121287 -0.40822219]\n"
          ]
        }
      ]
    },
    {
      "cell_type": "code",
      "source": [
        "import numpy as np\n",
        "import pandas as pd\n",
        "import pywt\n",
        "from sklearn import metrics\n",
        "from sklearn.metrics import confusion_matrix, ConfusionMatrixDisplay, classification_report, f1_score\n",
        "from sklearn.preprocessing import StandardScaler\n",
        "import matplotlib.pyplot as plt\n",
        "from sklearn.model_selection import train_test_split\n",
        "import tensorflow as tf\n",
        "from tensorflow import keras\n",
        "\n",
        "\n",
        "\n",
        "fpr, tpr, thresholds = metrics.roc_curve(test_target, scores, pos_label=1)\n",
        "optimal_idx = np.argmax(tpr - fpr)\n",
        "loss_threshold = (thresholds[optimal_idx], 6)\n",
        "\n",
        "auc = metrics.auc(fpr, tpr)\n",
        "print(auc)"
      ],
      "metadata": {
        "colab": {
          "base_uri": "https://localhost:8080/"
        },
        "id": "jNh9vwC7hmC7",
        "outputId": "bf64d234-4344-40d6-d5c1-e49e0386b5fc"
      },
      "execution_count": null,
      "outputs": [
        {
          "output_type": "stream",
          "name": "stdout",
          "text": [
            "0.728\n"
          ]
        }
      ]
    }
  ]
}